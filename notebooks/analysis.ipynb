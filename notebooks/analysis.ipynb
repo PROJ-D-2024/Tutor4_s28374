{
 "cells": [
  {
   "cell_type": "code",
   "execution_count": 40,
   "id": "initial_id",
   "metadata": {
    "collapsed": true,
    "ExecuteTime": {
     "end_time": "2024-11-18T17:36:15.081175Z",
     "start_time": "2024-11-18T17:36:15.064220Z"
    }
   },
   "outputs": [],
   "source": [
    "import pandas as pd\n",
    "from sklearn.model_selection import train_test_split"
   ]
  },
  {
   "cell_type": "code",
   "outputs": [
    {
     "data": {
      "text/plain": "   Feature1   Feature2    Feature3  Target\n0  0.751846  98.791871  814.311366       1\n1  0.797863  79.901070  497.720167       1\n2  0.991586  91.421082   36.282736       1\n3  0.016990   3.730573  879.821470       0\n4  0.370750  16.721799  669.223844       1",
      "text/html": "<div>\n<style scoped>\n    .dataframe tbody tr th:only-of-type {\n        vertical-align: middle;\n    }\n\n    .dataframe tbody tr th {\n        vertical-align: top;\n    }\n\n    .dataframe thead th {\n        text-align: right;\n    }\n</style>\n<table border=\"1\" class=\"dataframe\">\n  <thead>\n    <tr style=\"text-align: right;\">\n      <th></th>\n      <th>Feature1</th>\n      <th>Feature2</th>\n      <th>Feature3</th>\n      <th>Target</th>\n    </tr>\n  </thead>\n  <tbody>\n    <tr>\n      <th>0</th>\n      <td>0.751846</td>\n      <td>98.791871</td>\n      <td>814.311366</td>\n      <td>1</td>\n    </tr>\n    <tr>\n      <th>1</th>\n      <td>0.797863</td>\n      <td>79.901070</td>\n      <td>497.720167</td>\n      <td>1</td>\n    </tr>\n    <tr>\n      <th>2</th>\n      <td>0.991586</td>\n      <td>91.421082</td>\n      <td>36.282736</td>\n      <td>1</td>\n    </tr>\n    <tr>\n      <th>3</th>\n      <td>0.016990</td>\n      <td>3.730573</td>\n      <td>879.821470</td>\n      <td>0</td>\n    </tr>\n    <tr>\n      <th>4</th>\n      <td>0.370750</td>\n      <td>16.721799</td>\n      <td>669.223844</td>\n      <td>1</td>\n    </tr>\n  </tbody>\n</table>\n</div>"
     },
     "execution_count": 41,
     "metadata": {},
     "output_type": "execute_result"
    }
   ],
   "source": [
    "data = pd.read_csv('../data/dataset.csv')\n",
    "data.head()"
   ],
   "metadata": {
    "collapsed": false,
    "ExecuteTime": {
     "end_time": "2024-11-18T17:36:15.111751Z",
     "start_time": "2024-11-18T17:36:15.083169Z"
    }
   },
   "id": "969a6a1305cd4619",
   "execution_count": 41
  },
  {
   "cell_type": "code",
   "outputs": [],
   "source": [
    "from sklearn.preprocessing import LabelEncoder"
   ],
   "metadata": {
    "collapsed": false,
    "ExecuteTime": {
     "end_time": "2024-11-18T17:36:15.127708Z",
     "start_time": "2024-11-18T17:36:15.113746Z"
    }
   },
   "id": "aecc6ce051a72d3",
   "execution_count": 42
  },
  {
   "cell_type": "code",
   "outputs": [
    {
     "name": "stdout",
     "output_type": "stream",
     "text": [
      "Training sample size: (1600, 3)\n",
      "Test sample size: (400, 3)\n"
     ]
    }
   ],
   "source": [
    "X = data.drop(columns=['Target'])\n",
    "y = data['Target']\n",
    "\n",
    "X_train, X_test, y_train, y_test = train_test_split(X, y, test_size=0.2, random_state=42)\n",
    "\n",
    "print(f\"Training sample size: {X_train.shape}\")\n",
    "print(f\"Test sample size: {X_test.shape}\")"
   ],
   "metadata": {
    "collapsed": false,
    "ExecuteTime": {
     "end_time": "2024-11-18T17:36:15.142668Z",
     "start_time": "2024-11-18T17:36:15.130701Z"
    }
   },
   "id": "9852b8a30c5a7a0d",
   "execution_count": 43
  },
  {
   "cell_type": "code",
   "outputs": [
    {
     "data": {
      "text/plain": "Feature1    0\nFeature2    0\nFeature3    0\nTarget      0\ndtype: int64"
     },
     "execution_count": 44,
     "metadata": {},
     "output_type": "execute_result"
    }
   ],
   "source": [
    "data.isnull().sum()"
   ],
   "metadata": {
    "collapsed": false,
    "ExecuteTime": {
     "end_time": "2024-11-18T17:36:15.158626Z",
     "start_time": "2024-11-18T17:36:15.143666Z"
    }
   },
   "id": "94ae011591f61673",
   "execution_count": 44
  },
  {
   "cell_type": "code",
   "outputs": [
    {
     "name": "stdout",
     "output_type": "stream",
     "text": [
      "                 Model  Accuracy  Precision  Recall  F1 Score\n",
      "0  Logistic Regression    0.5225   0.521789  0.5225  0.506034\n",
      "1        Decision Tree    0.4650   0.465290  0.4650  0.465040\n",
      "2        Random Forest    0.4700   0.469776  0.4700  0.469841\n",
      "3                  KNN    0.5250   0.525923  0.5250  0.524620\n"
     ]
    }
   ],
   "source": [
    "from train_models import train_models\n",
    "from evaluate import evaluate_models\n",
    "\n",
    "trained_models = train_models(X_train, y_train)\n",
    "\n",
    "results = evaluate_models(trained_models, X_test, y_test)\n",
    "\n",
    "import pandas as pd\n",
    "results_df = pd.DataFrame(results)\n",
    "print(results_df)"
   ],
   "metadata": {
    "collapsed": false,
    "ExecuteTime": {
     "end_time": "2024-11-18T17:36:15.791443Z",
     "start_time": "2024-11-18T17:36:15.161618Z"
    }
   },
   "id": "5e81c283b6b7b243",
   "execution_count": 45
  },
  {
   "cell_type": "code",
   "outputs": [
    {
     "data": {
      "text/plain": "<Figure size 640x480 with 2 Axes>",
      "image/png": "[encoded data removed]"
     },
     "metadata": {},
     "output_type": "display_data"
    }
   ],
   "source": [
    "import matplotlib.pyplot as plt\n",
    "from sklearn.metrics import ConfusionMatrixDisplay\n",
    "from sklearn.metrics import confusion_matrix\n",
    "\n",
    "best_model = trained_models['Random Forest']\n",
    "y_pred = best_model.predict(X_test)\n",
    "\n",
    "disp = ConfusionMatrixDisplay(confusion_matrix=confusion_matrix(y_test, y_pred))\n",
    "disp.plot()\n",
    "plt.show()\n"
   ],
   "metadata": {
    "collapsed": false,
    "ExecuteTime": {
     "end_time": "2024-11-18T17:36:16.208328Z",
     "start_time": "2024-11-18T17:36:15.794436Z"
    }
   },
   "id": "b39e9f7b5e1eff76",
   "execution_count": 46
  }
 ],
 "metadata": {
  "kernelspec": {
   "display_name": "Python 3",
   "language": "python",
   "name": "python3"
  },
  "language_info": {
   "codemirror_mode": {
    "name": "ipython",
    "version": 2
   },
   "file_extension": ".py",
   "mimetype": "text/x-python",
   "name": "python",
   "nbconvert_exporter": "python",
   "pygments_lexer": "ipython2",
   "version": "2.7.6"
  }
 },
 "nbformat": 4,
 "nbformat_minor": 5
}
